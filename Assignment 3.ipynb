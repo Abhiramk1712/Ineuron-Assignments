{
 "cells": [
  {
   "cell_type": "markdown",
   "id": "88f55a86",
   "metadata": {},
   "source": [
    "Q1.1 : Write a Python program to implement your own myreduce() function which works exactly like Python's built-in function reduce()"
   ]
  },
  {
   "cell_type": "code",
   "execution_count": 17,
   "id": "2c2e1067",
   "metadata": {},
   "outputs": [
    {
     "name": "stdout",
     "output_type": "stream",
     "text": [
      "100\n"
     ]
    }
   ],
   "source": [
    "def myreduce(add,list1):\n",
    "    return a\n",
    "def add(a,b):\n",
    "    return a+b\n",
    "list1 = [10,25,40,15,10]\n",
    "a = list1[0]\n",
    "for i in range(1,len(list1)):\n",
    "    b = list1[i]\n",
    "    a = add(a,b)\n",
    "print(myreduce(add,list1))"
   ]
  },
  {
   "cell_type": "markdown",
   "id": "8fef4abd",
   "metadata": {},
   "source": [
    "Q1.2 : Write a Python program to implement your own myfilter() function which works exactly like Python's built-in function filter()"
   ]
  },
  {
   "cell_type": "code",
   "execution_count": 18,
   "id": "0a43d12e",
   "metadata": {},
   "outputs": [
    {
     "name": "stdout",
     "output_type": "stream",
     "text": [
      "[2, 4, 32, 4, 746, 247474]\n"
     ]
    }
   ],
   "source": [
    "def myfilter(even_elements,x):\n",
    "    return even_elements(a)\n",
    "x = [1,2,3,4,5,32,55,3541,4,245,746,247474]\n",
    "y = []\n",
    "def even_elements(a):\n",
    "    for i in x:\n",
    "        if i % 2 == 0:\n",
    "            y.append(i)\n",
    "    print(y)\n",
    "myfilter(even_elements,x)"
   ]
  },
  {
   "cell_type": "markdown",
   "id": "06822b47",
   "metadata": {},
   "source": [
    "Q2 : Implement List Comprehensions to produce the following lists:\n",
    "['x', 'xx', 'xxx', 'xxxx', 'y', 'yy', 'yyy', 'yyyy', 'z', 'zz', 'zzz', 'zzzz']\n",
    "\n",
    "['x', 'y', 'z', 'xx', 'yy', 'zz', 'xx', 'yy', 'zz', 'xxxx', 'yyyy', 'zzzz'] \n",
    "\n",
    "[[2], [3], [4], [3], [4], [5], [4], [5], [6]] \n",
    "\n",
    "[[2, 3, 4, 5], [3, 4, 5, 6], [4, 5, 6, 7], [5, 6, 7, 8]]\n",
    "\n",
    "[(1, 1), (2, 1), (3, 1), (1, 2), (2, 2), (3, 2), (1, 3), (2, 3), (3, 3)]"
   ]
  },
  {
   "cell_type": "code",
   "execution_count": 26,
   "id": "5022b426",
   "metadata": {},
   "outputs": [
    {
     "name": "stdout",
     "output_type": "stream",
     "text": [
      "['x', 'xx', 'xxx', 'xxxx', 'y', 'yy', 'yyy', 'yyyy', 'z', 'zz', 'zzz', 'zzzz']\n",
      "\n",
      "['x', 'y', 'z', 'xx', 'yy', 'zz', 'xxx', 'yyy', 'zzz', 'xxxx', 'yyyy', 'zzzz']\n",
      "\n",
      "[[2], [3], [4], [3], [4], [5], [4], [5], [6]]\n",
      "\n",
      "[[2, 3, 4, 5], [3, 4, 5, 6], [4, 5, 6, 7], [5, 6, 7, 8]]\n",
      "\n",
      "[(1, 1), (2, 1), (3, 1), (1, 2), (2, 2), (3, 2), (1, 3), (2, 3), (3, 3)]\n"
     ]
    }
   ],
   "source": [
    "#list-1\n",
    "word_1=list('xyz')\n",
    "word_2=[x*n for x in word_1 for n in range(1,5)]\n",
    "print(word_2)\n",
    "\n",
    "print('')\n",
    "\n",
    "#list-2\n",
    "word_3=[x*n for n in range(1,5) for x in word_1]\n",
    "print(word_3)\n",
    "\n",
    "print('')\n",
    "\n",
    "#list-3\n",
    "number=[2,3,4]\n",
    "number_1=[[x+n] for x in number for n in range(0,3)]\n",
    "print(number_1)\n",
    "\n",
    "print('')\n",
    "\n",
    "#list-4\n",
    "number_2=[2,3,4,5]\n",
    "number_3=[[x+n for n in range(0,4)] for x in number_2]\n",
    "print(number_3)\n",
    "\n",
    "print('')\n",
    "\n",
    "#list-5\n",
    "number_4=[1,2,3]\n",
    "number_5=[(b,a) for a in number_4 for b in number_4]\n",
    "print(number_5)"
   ]
  },
  {
   "cell_type": "code",
   "execution_count": null,
   "id": "6e99ba0d",
   "metadata": {},
   "outputs": [],
   "source": []
  }
 ],
 "metadata": {
  "kernelspec": {
   "display_name": "Python 3",
   "language": "python",
   "name": "python3"
  },
  "language_info": {
   "codemirror_mode": {
    "name": "ipython",
    "version": 3
   },
   "file_extension": ".py",
   "mimetype": "text/x-python",
   "name": "python",
   "nbconvert_exporter": "python",
   "pygments_lexer": "ipython3",
   "version": "3.8.8"
  }
 },
 "nbformat": 4,
 "nbformat_minor": 5
}
