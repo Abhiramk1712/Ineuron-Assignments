{
 "cells": [
  {
   "cell_type": "markdown",
   "id": "19e099e8",
   "metadata": {},
   "source": [
    "Q1 : Create the below pattern using nested for loop in python."
   ]
  },
  {
   "cell_type": "code",
   "execution_count": 3,
   "id": "392be046",
   "metadata": {},
   "outputs": [
    {
     "name": "stdout",
     "output_type": "stream",
     "text": [
      "*\n",
      "**\n",
      "***\n",
      "****\n",
      "*****\n",
      "****\n",
      "***\n",
      "**\n",
      "*\n"
     ]
    }
   ],
   "source": [
    "line = '*'\n",
    "max_length = 4\n",
    "\n",
    "while len(line) <= max_length:\n",
    "    print(line)\n",
    "    line += \"*\"\n",
    "    \n",
    "while len(line) > 0:\n",
    "    print(line)\n",
    "    line = line[:-1]"
   ]
  },
  {
   "cell_type": "markdown",
   "id": "5386bbc2",
   "metadata": {},
   "source": [
    "Q2 : Write a Python program to reverse a word after accpeting the input from the user"
   ]
  },
  {
   "cell_type": "code",
   "execution_count": 12,
   "id": "4995ff67",
   "metadata": {},
   "outputs": [
    {
     "name": "stdout",
     "output_type": "stream",
     "text": [
      "What is your name?ineuron\n",
      "norueni\n"
     ]
    }
   ],
   "source": [
    "x = input(\"What is your name?\")\n",
    "reverse = ''.join(reversed(x))\n",
    "print(reverse)"
   ]
  },
  {
   "cell_type": "code",
   "execution_count": null,
   "id": "48798f0c",
   "metadata": {},
   "outputs": [],
   "source": []
  }
 ],
 "metadata": {
  "kernelspec": {
   "display_name": "Python 3",
   "language": "python",
   "name": "python3"
  },
  "language_info": {
   "codemirror_mode": {
    "name": "ipython",
    "version": 3
   },
   "file_extension": ".py",
   "mimetype": "text/x-python",
   "name": "python",
   "nbconvert_exporter": "python",
   "pygments_lexer": "ipython3",
   "version": "3.8.8"
  }
 },
 "nbformat": 4,
 "nbformat_minor": 5
}
